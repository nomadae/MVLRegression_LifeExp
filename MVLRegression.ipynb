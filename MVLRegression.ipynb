{
 "cells": [
  {
   "cell_type": "markdown",
   "source": [
    "# Regresión Lineal Multivariada\n",
    "## Estimando la esperanza de vida con datos de la OMS.\n",
    "La esperanza de vida es una estadística que pretende decir la cantidad promedio\n",
    "de años que un individuo va a vivir.\n",
    "\n",
    "Los datos provienen de la Organización Mundial de la Salud (OMS o WHO en inglés).\n",
    "\n",
    "Con un total de 2938 registros cada uno con 22 columnas. Contiente la informacion del\n",
    "2000 al 2015 de los 193 paises que proporcionaron datos a la OMS. No todos los paises\n",
    "tienen registros de todos los años.\n",
    "\n",
    "*Description and context of the Life Expectancy (WHO) dataset can be found here.*\n",
    "\n",
    "https://www.kaggle.com/kumarajarshi/life-expectancy-who"
   ],
   "metadata": {
    "collapsed": false
   }
  },
  {
   "cell_type": "code",
   "execution_count": 309,
   "outputs": [
    {
     "data": {
      "text/plain": "              Year  Life expectancy   Adult Mortality  infant deaths  \\\ncount  2938.000000       2928.000000      2928.000000    2938.000000   \nmean   2007.518720         69.224932       164.796448      30.303948   \nstd       4.613841          9.523867       124.292079     117.926501   \nmin    2000.000000         36.300000         1.000000       0.000000   \n25%    2004.000000         63.100000        74.000000       0.000000   \n50%    2008.000000         72.100000       144.000000       3.000000   \n75%    2012.000000         75.700000       228.000000      22.000000   \nmax    2015.000000         89.000000       723.000000    1800.000000   \n\n           Alcohol  percentage expenditure  Hepatitis B       Measles   \\\ncount  2744.000000             2938.000000  2385.000000    2938.000000   \nmean      4.602861              738.251295    80.940461    2419.592240   \nstd       4.052413             1987.914858    25.070016   11467.272489   \nmin       0.010000                0.000000     1.000000       0.000000   \n25%       0.877500                4.685343    77.000000       0.000000   \n50%       3.755000               64.912906    92.000000      17.000000   \n75%       7.702500              441.534144    97.000000     360.250000   \nmax      17.870000            19479.911610    99.000000  212183.000000   \n\n              BMI   under-five deaths         Polio  Total expenditure  \\\ncount  2904.000000         2938.000000  2919.000000         2712.00000   \nmean     38.321247           42.035739    82.550188            5.93819   \nstd      20.044034          160.445548    23.428046            2.49832   \nmin       1.000000            0.000000     3.000000            0.37000   \n25%      19.300000            0.000000    78.000000            4.26000   \n50%      43.500000            4.000000    93.000000            5.75500   \n75%      56.200000           28.000000    97.000000            7.49250   \nmax      87.300000         2500.000000    99.000000           17.60000   \n\n       Diphtheria      HIV/AIDS            GDP    Population  \\\ncount  2919.000000  2938.000000    2490.000000  2.286000e+03   \nmean     82.324084     1.742103    7483.158469  1.275338e+07   \nstd      23.716912     5.077785   14270.169342  6.101210e+07   \nmin       2.000000     0.100000       1.681350  3.400000e+01   \n25%      78.000000     0.100000     463.935626  1.957932e+05   \n50%      93.000000     0.100000    1766.947595  1.386542e+06   \n75%      97.000000     0.800000    5910.806335  7.420359e+06   \nmax      99.000000    50.600000  119172.741800  1.293859e+09   \n\n        thinness  1-19 years   thinness 5-9 years  \\\ncount            2904.000000          2904.000000   \nmean                4.839704             4.870317   \nstd                 4.420195             4.508882   \nmin                 0.100000             0.100000   \n25%                 1.600000             1.500000   \n50%                 3.300000             3.300000   \n75%                 7.200000             7.200000   \nmax                27.700000            28.600000   \n\n       Income composition of resources    Schooling  \ncount                      2771.000000  2775.000000  \nmean                          0.627551    11.992793  \nstd                           0.210904     3.358920  \nmin                           0.000000     0.000000  \n25%                           0.493000    10.100000  \n50%                           0.677000    12.300000  \n75%                           0.779000    14.300000  \nmax                           0.948000    20.700000  ",
      "text/html": "<div>\n<style scoped>\n    .dataframe tbody tr th:only-of-type {\n        vertical-align: middle;\n    }\n\n    .dataframe tbody tr th {\n        vertical-align: top;\n    }\n\n    .dataframe thead th {\n        text-align: right;\n    }\n</style>\n<table border=\"1\" class=\"dataframe\">\n  <thead>\n    <tr style=\"text-align: right;\">\n      <th></th>\n      <th>Year</th>\n      <th>Life expectancy</th>\n      <th>Adult Mortality</th>\n      <th>infant deaths</th>\n      <th>Alcohol</th>\n      <th>percentage expenditure</th>\n      <th>Hepatitis B</th>\n      <th>Measles</th>\n      <th>BMI</th>\n      <th>under-five deaths</th>\n      <th>Polio</th>\n      <th>Total expenditure</th>\n      <th>Diphtheria</th>\n      <th>HIV/AIDS</th>\n      <th>GDP</th>\n      <th>Population</th>\n      <th>thinness  1-19 years</th>\n      <th>thinness 5-9 years</th>\n      <th>Income composition of resources</th>\n      <th>Schooling</th>\n    </tr>\n  </thead>\n  <tbody>\n    <tr>\n      <th>count</th>\n      <td>2938.000000</td>\n      <td>2928.000000</td>\n      <td>2928.000000</td>\n      <td>2938.000000</td>\n      <td>2744.000000</td>\n      <td>2938.000000</td>\n      <td>2385.000000</td>\n      <td>2938.000000</td>\n      <td>2904.000000</td>\n      <td>2938.000000</td>\n      <td>2919.000000</td>\n      <td>2712.00000</td>\n      <td>2919.000000</td>\n      <td>2938.000000</td>\n      <td>2490.000000</td>\n      <td>2.286000e+03</td>\n      <td>2904.000000</td>\n      <td>2904.000000</td>\n      <td>2771.000000</td>\n      <td>2775.000000</td>\n    </tr>\n    <tr>\n      <th>mean</th>\n      <td>2007.518720</td>\n      <td>69.224932</td>\n      <td>164.796448</td>\n      <td>30.303948</td>\n      <td>4.602861</td>\n      <td>738.251295</td>\n      <td>80.940461</td>\n      <td>2419.592240</td>\n      <td>38.321247</td>\n      <td>42.035739</td>\n      <td>82.550188</td>\n      <td>5.93819</td>\n      <td>82.324084</td>\n      <td>1.742103</td>\n      <td>7483.158469</td>\n      <td>1.275338e+07</td>\n      <td>4.839704</td>\n      <td>4.870317</td>\n      <td>0.627551</td>\n      <td>11.992793</td>\n    </tr>\n    <tr>\n      <th>std</th>\n      <td>4.613841</td>\n      <td>9.523867</td>\n      <td>124.292079</td>\n      <td>117.926501</td>\n      <td>4.052413</td>\n      <td>1987.914858</td>\n      <td>25.070016</td>\n      <td>11467.272489</td>\n      <td>20.044034</td>\n      <td>160.445548</td>\n      <td>23.428046</td>\n      <td>2.49832</td>\n      <td>23.716912</td>\n      <td>5.077785</td>\n      <td>14270.169342</td>\n      <td>6.101210e+07</td>\n      <td>4.420195</td>\n      <td>4.508882</td>\n      <td>0.210904</td>\n      <td>3.358920</td>\n    </tr>\n    <tr>\n      <th>min</th>\n      <td>2000.000000</td>\n      <td>36.300000</td>\n      <td>1.000000</td>\n      <td>0.000000</td>\n      <td>0.010000</td>\n      <td>0.000000</td>\n      <td>1.000000</td>\n      <td>0.000000</td>\n      <td>1.000000</td>\n      <td>0.000000</td>\n      <td>3.000000</td>\n      <td>0.37000</td>\n      <td>2.000000</td>\n      <td>0.100000</td>\n      <td>1.681350</td>\n      <td>3.400000e+01</td>\n      <td>0.100000</td>\n      <td>0.100000</td>\n      <td>0.000000</td>\n      <td>0.000000</td>\n    </tr>\n    <tr>\n      <th>25%</th>\n      <td>2004.000000</td>\n      <td>63.100000</td>\n      <td>74.000000</td>\n      <td>0.000000</td>\n      <td>0.877500</td>\n      <td>4.685343</td>\n      <td>77.000000</td>\n      <td>0.000000</td>\n      <td>19.300000</td>\n      <td>0.000000</td>\n      <td>78.000000</td>\n      <td>4.26000</td>\n      <td>78.000000</td>\n      <td>0.100000</td>\n      <td>463.935626</td>\n      <td>1.957932e+05</td>\n      <td>1.600000</td>\n      <td>1.500000</td>\n      <td>0.493000</td>\n      <td>10.100000</td>\n    </tr>\n    <tr>\n      <th>50%</th>\n      <td>2008.000000</td>\n      <td>72.100000</td>\n      <td>144.000000</td>\n      <td>3.000000</td>\n      <td>3.755000</td>\n      <td>64.912906</td>\n      <td>92.000000</td>\n      <td>17.000000</td>\n      <td>43.500000</td>\n      <td>4.000000</td>\n      <td>93.000000</td>\n      <td>5.75500</td>\n      <td>93.000000</td>\n      <td>0.100000</td>\n      <td>1766.947595</td>\n      <td>1.386542e+06</td>\n      <td>3.300000</td>\n      <td>3.300000</td>\n      <td>0.677000</td>\n      <td>12.300000</td>\n    </tr>\n    <tr>\n      <th>75%</th>\n      <td>2012.000000</td>\n      <td>75.700000</td>\n      <td>228.000000</td>\n      <td>22.000000</td>\n      <td>7.702500</td>\n      <td>441.534144</td>\n      <td>97.000000</td>\n      <td>360.250000</td>\n      <td>56.200000</td>\n      <td>28.000000</td>\n      <td>97.000000</td>\n      <td>7.49250</td>\n      <td>97.000000</td>\n      <td>0.800000</td>\n      <td>5910.806335</td>\n      <td>7.420359e+06</td>\n      <td>7.200000</td>\n      <td>7.200000</td>\n      <td>0.779000</td>\n      <td>14.300000</td>\n    </tr>\n    <tr>\n      <th>max</th>\n      <td>2015.000000</td>\n      <td>89.000000</td>\n      <td>723.000000</td>\n      <td>1800.000000</td>\n      <td>17.870000</td>\n      <td>19479.911610</td>\n      <td>99.000000</td>\n      <td>212183.000000</td>\n      <td>87.300000</td>\n      <td>2500.000000</td>\n      <td>99.000000</td>\n      <td>17.60000</td>\n      <td>99.000000</td>\n      <td>50.600000</td>\n      <td>119172.741800</td>\n      <td>1.293859e+09</td>\n      <td>27.700000</td>\n      <td>28.600000</td>\n      <td>0.948000</td>\n      <td>20.700000</td>\n    </tr>\n  </tbody>\n</table>\n</div>"
     },
     "execution_count": 309,
     "metadata": {},
     "output_type": "execute_result"
    }
   ],
   "source": [
    "# Import libraries\n",
    "import pandas as pd\n",
    "import numpy as np\n",
    "from numpy.linalg.linalg import matmul, inv\n",
    "import os\n",
    "import matplotlib.pyplot as plt\n",
    "\n",
    "le = pd.read_csv(\"Life_Expectancy_Data.csv\", delimiter=\",\")\n",
    "\n",
    "le.head()\n",
    "\n",
    "# estadistica descriptiva\n",
    "le.describe()\n"
   ],
   "metadata": {
    "collapsed": false,
    "pycharm": {
     "name": "#%%\n"
    }
   }
  },
  {
   "cell_type": "markdown",
   "source": [
    "Ahora que hemos importado los datos, la documentación indica que existen\n",
    "valores nulos en algunas columnas, asi que será necesario realizar un pre\n",
    "procesamiento para tratar estos datos faltantes.\n",
    "\n",
    "Utilizamos un método que describe el usuario harshini564, de la comunidad de kaggle.\n",
    "\n",
    "Dicho método realiza una interpolación lineal para sustituir los valores nulos."
   ],
   "metadata": {
    "collapsed": false,
    "pycharm": {
     "name": "#%% md\n"
    }
   }
  },
  {
   "cell_type": "code",
   "execution_count": 310,
   "outputs": [],
   "source": [
    "# renombramos las columnas porque contienen espacios innecesarios\n",
    "\n",
    "le.rename(columns={\" BMI \":\"BMI\",\"Life expectancy \":\"Life_Expectancy\",\"Adult Mortality\":\"Adult_Mortality\",\n",
    "                   \"infant deaths\":\"Infant_Deaths\",\"percentage expenditure\":\"Percentage_Exp\",\"Hepatitis B\":\"HepatitisB\",\n",
    "                  \"Measles \":\"Measles\",\"under-five deaths \":\"Under_Five_Deaths\",\"Diphtheria \":\"Diphtheria\",\n",
    "                  \" HIV/AIDS\":\"HIV/AIDS\",\" thinness  1-19 years\":\"thinness_1to19_years\",\" thinness 5-9 years\":\"thinness_5to9_years\",\n",
    "                   \"Income composition of resources\":\"Income_Comp_Of_Resources\",\n",
    "                   \"Total expenditure\":\"Tot_Exp\"},inplace=True)\n",
    "\n"
   ],
   "metadata": {
    "collapsed": false,
    "pycharm": {
     "name": "#%%\n"
    }
   }
  },
  {
   "cell_type": "code",
   "execution_count": 311,
   "outputs": [
    {
     "data": {
      "text/plain": "Country                      0.000000\nYear                         0.000000\nStatus                       0.000000\nLife_Expectancy              0.340368\nAdult_Mortality              0.340368\nInfant_Deaths                0.000000\nAlcohol                      6.603131\nPercentage_Exp               0.000000\nHepatitisB                  18.822328\nMeasles                      0.000000\nBMI                          1.157250\nUnder_Five_Deaths            0.000000\nPolio                        0.646698\nTot_Exp                      7.692308\nDiphtheria                   0.646698\nHIV/AIDS                     0.000000\nGDP                         15.248468\nPopulation                  22.191967\nthinness_1to19_years         1.157250\nthinness_5to9_years          1.157250\nIncome_Comp_Of_Resources     5.684139\nSchooling                    5.547992\ndtype: float64"
     },
     "execution_count": 311,
     "metadata": {},
     "output_type": "execute_result"
    }
   ],
   "source": [
    "# Identify percentage of null values in each column.\n",
    "le.isnull().sum()*100/le.isnull().count()"
   ],
   "metadata": {
    "collapsed": false,
    "pycharm": {
     "name": "#%%\n"
    }
   }
  },
  {
   "cell_type": "code",
   "execution_count": 312,
   "outputs": [],
   "source": [
    "country_list = le.Country.unique()\n",
    "fill_list = ['Life_Expectancy','Adult_Mortality','Alcohol','HepatitisB','BMI','Polio','Tot_Exp','Diphtheria','GDP','Population',\n",
    "             'thinness_1to19_years','thinness_5to9_years','Income_Comp_Of_Resources','Schooling']\n",
    "\n",
    "# Treat null values using interpolation.\n",
    "for country in country_list:\n",
    "    le.loc[le['Country'] == country,fill_list] = le.loc[le['Country'] == country,fill_list].interpolate()\n",
    "\n",
    "# Drop remaining null values after interpolation.\n",
    "le.dropna(inplace=True)\n"
   ],
   "metadata": {
    "collapsed": false,
    "pycharm": {
     "name": "#%%\n"
    }
   }
  },
  {
   "cell_type": "code",
   "execution_count": 313,
   "outputs": [
    {
     "data": {
      "text/plain": "Country                     0\nYear                        0\nStatus                      0\nLife_Expectancy             0\nAdult_Mortality             0\nInfant_Deaths               0\nAlcohol                     0\nPercentage_Exp              0\nHepatitisB                  0\nMeasles                     0\nBMI                         0\nUnder_Five_Deaths           0\nPolio                       0\nTot_Exp                     0\nDiphtheria                  0\nHIV/AIDS                    0\nGDP                         0\nPopulation                  0\nthinness_1to19_years        0\nthinness_5to9_years         0\nIncome_Comp_Of_Resources    0\nSchooling                   0\ndtype: int64"
     },
     "execution_count": 313,
     "metadata": {},
     "output_type": "execute_result"
    }
   ],
   "source": [
    "# Verifying null-values after applying above methods.\n",
    "le.isnull().sum()"
   ],
   "metadata": {
    "collapsed": false,
    "pycharm": {
     "name": "#%%\n"
    }
   }
  },
  {
   "cell_type": "markdown",
   "source": [
    "Ahora procedemos a seleccionar nuestro objeto de estudio. Nos gustaría estimar la esperanza\n",
    "de vida de todos los países que se puedan para el año 2014.\n"
   ],
   "metadata": {
    "collapsed": false,
    "pycharm": {
     "name": "#%% md\n"
    }
   }
  },
  {
   "cell_type": "code",
   "execution_count": 314,
   "outputs": [
    {
     "data": {
      "text/plain": "        Country  Year      Status  Life_Expectancy  Adult_Mortality  \\\n1   Afghanistan  2014  Developing             59.9            271.0   \n17      Albania  2014  Developing             77.5              8.0   \n33      Algeria  2014  Developing             75.4             11.0   \n49       Angola  2014  Developing             51.7            348.0   \n81    Argentina  2014  Developing             76.2            118.0   \n\n    Infant_Deaths  Alcohol  Percentage_Exp  HepatitisB  Measles  ...  Polio  \\\n1              64     0.01       73.523582        62.0      492  ...   58.0   \n17              0     4.51      428.749067        98.0        0  ...   98.0   \n33             21     0.01       54.237318        95.0        0  ...   95.0   \n49             67     8.33       23.965612        64.0    11699  ...   68.0   \n81              8     7.93      847.371746        94.0        1  ...   92.0   \n\n    Tot_Exp  Diphtheria  HIV/AIDS           GDP  Population  \\\n1      8.18        62.0       0.1    612.696514    327582.0   \n17     5.88        98.0       0.1   4575.763787    288914.0   \n33     7.21        95.0       0.1    547.851700  39113313.0   \n49     3.31        64.0       2.0    479.312240   2692466.0   \n81     4.79        94.0       0.1  12245.256450  42981515.0   \n\n    thinness_1to19_years  thinness_5to9_years  Income_Comp_Of_Resources  \\\n1                   17.5                 17.5                     0.476   \n17                   1.2                  1.3                     0.761   \n33                   6.0                  5.8                     0.741   \n49                   8.5                  8.3                     0.527   \n81                   1.0                  0.9                     0.825   \n\n    Schooling  \n1        10.0  \n17       14.2  \n33       14.4  \n49       11.4  \n81       17.3  \n\n[5 rows x 22 columns]",
      "text/html": "<div>\n<style scoped>\n    .dataframe tbody tr th:only-of-type {\n        vertical-align: middle;\n    }\n\n    .dataframe tbody tr th {\n        vertical-align: top;\n    }\n\n    .dataframe thead th {\n        text-align: right;\n    }\n</style>\n<table border=\"1\" class=\"dataframe\">\n  <thead>\n    <tr style=\"text-align: right;\">\n      <th></th>\n      <th>Country</th>\n      <th>Year</th>\n      <th>Status</th>\n      <th>Life_Expectancy</th>\n      <th>Adult_Mortality</th>\n      <th>Infant_Deaths</th>\n      <th>Alcohol</th>\n      <th>Percentage_Exp</th>\n      <th>HepatitisB</th>\n      <th>Measles</th>\n      <th>...</th>\n      <th>Polio</th>\n      <th>Tot_Exp</th>\n      <th>Diphtheria</th>\n      <th>HIV/AIDS</th>\n      <th>GDP</th>\n      <th>Population</th>\n      <th>thinness_1to19_years</th>\n      <th>thinness_5to9_years</th>\n      <th>Income_Comp_Of_Resources</th>\n      <th>Schooling</th>\n    </tr>\n  </thead>\n  <tbody>\n    <tr>\n      <th>1</th>\n      <td>Afghanistan</td>\n      <td>2014</td>\n      <td>Developing</td>\n      <td>59.9</td>\n      <td>271.0</td>\n      <td>64</td>\n      <td>0.01</td>\n      <td>73.523582</td>\n      <td>62.0</td>\n      <td>492</td>\n      <td>...</td>\n      <td>58.0</td>\n      <td>8.18</td>\n      <td>62.0</td>\n      <td>0.1</td>\n      <td>612.696514</td>\n      <td>327582.0</td>\n      <td>17.5</td>\n      <td>17.5</td>\n      <td>0.476</td>\n      <td>10.0</td>\n    </tr>\n    <tr>\n      <th>17</th>\n      <td>Albania</td>\n      <td>2014</td>\n      <td>Developing</td>\n      <td>77.5</td>\n      <td>8.0</td>\n      <td>0</td>\n      <td>4.51</td>\n      <td>428.749067</td>\n      <td>98.0</td>\n      <td>0</td>\n      <td>...</td>\n      <td>98.0</td>\n      <td>5.88</td>\n      <td>98.0</td>\n      <td>0.1</td>\n      <td>4575.763787</td>\n      <td>288914.0</td>\n      <td>1.2</td>\n      <td>1.3</td>\n      <td>0.761</td>\n      <td>14.2</td>\n    </tr>\n    <tr>\n      <th>33</th>\n      <td>Algeria</td>\n      <td>2014</td>\n      <td>Developing</td>\n      <td>75.4</td>\n      <td>11.0</td>\n      <td>21</td>\n      <td>0.01</td>\n      <td>54.237318</td>\n      <td>95.0</td>\n      <td>0</td>\n      <td>...</td>\n      <td>95.0</td>\n      <td>7.21</td>\n      <td>95.0</td>\n      <td>0.1</td>\n      <td>547.851700</td>\n      <td>39113313.0</td>\n      <td>6.0</td>\n      <td>5.8</td>\n      <td>0.741</td>\n      <td>14.4</td>\n    </tr>\n    <tr>\n      <th>49</th>\n      <td>Angola</td>\n      <td>2014</td>\n      <td>Developing</td>\n      <td>51.7</td>\n      <td>348.0</td>\n      <td>67</td>\n      <td>8.33</td>\n      <td>23.965612</td>\n      <td>64.0</td>\n      <td>11699</td>\n      <td>...</td>\n      <td>68.0</td>\n      <td>3.31</td>\n      <td>64.0</td>\n      <td>2.0</td>\n      <td>479.312240</td>\n      <td>2692466.0</td>\n      <td>8.5</td>\n      <td>8.3</td>\n      <td>0.527</td>\n      <td>11.4</td>\n    </tr>\n    <tr>\n      <th>81</th>\n      <td>Argentina</td>\n      <td>2014</td>\n      <td>Developing</td>\n      <td>76.2</td>\n      <td>118.0</td>\n      <td>8</td>\n      <td>7.93</td>\n      <td>847.371746</td>\n      <td>94.0</td>\n      <td>1</td>\n      <td>...</td>\n      <td>92.0</td>\n      <td>4.79</td>\n      <td>94.0</td>\n      <td>0.1</td>\n      <td>12245.256450</td>\n      <td>42981515.0</td>\n      <td>1.0</td>\n      <td>0.9</td>\n      <td>0.825</td>\n      <td>17.3</td>\n    </tr>\n  </tbody>\n</table>\n<p>5 rows × 22 columns</p>\n</div>"
     },
     "execution_count": 314,
     "metadata": {},
     "output_type": "execute_result"
    }
   ],
   "source": [
    "# seleccionamos los registros del año 2014\n",
    "y2014 = le.loc[le['Year'] == 2014 , le.columns]\n",
    "y2014.head()"
   ],
   "metadata": {
    "collapsed": false,
    "pycharm": {
     "name": "#%%\n"
    }
   }
  },
  {
   "cell_type": "markdown",
   "source": [
    "Sin embargo, aun tenemos columnas con datos categoricos. Es necesario removerlas ya que\n",
    "la regresion lineal trata unicamente con datos numericos, por simplicidad, no vamos a realizar una\n",
    "codificación para estos datos, aunque hacerlo es posible."
   ],
   "metadata": {
    "collapsed": false,
    "pycharm": {
     "name": "#%% md\n"
    }
   }
  },
  {
   "cell_type": "code",
   "execution_count": 315,
   "outputs": [
    {
     "data": {
      "text/plain": "    Life_Expectancy  Adult_Mortality  Infant_Deaths  Alcohol  Percentage_Exp  \\\n1              59.9            271.0             64     0.01       73.523582   \n17             77.5              8.0              0     4.51      428.749067   \n33             75.4             11.0             21     0.01       54.237318   \n49             51.7            348.0             67     8.33       23.965612   \n81             76.2            118.0              8     7.93      847.371746   \n\n    HepatitisB  Measles   BMI  Under_Five_Deaths  Polio  Tot_Exp  Diphtheria  \\\n1         62.0      492  18.6                 86   58.0     8.18        62.0   \n17        98.0        0  57.2                  1   98.0     5.88        98.0   \n33        95.0        0  58.4                 24   95.0     7.21        95.0   \n49        64.0    11699  22.7                101   68.0     3.31        64.0   \n81        94.0        1  62.2                  9   92.0     4.79        94.0   \n\n    HIV/AIDS           GDP  Population  thinness_1to19_years  \\\n1        0.1    612.696514    327582.0                  17.5   \n17       0.1   4575.763787    288914.0                   1.2   \n33       0.1    547.851700  39113313.0                   6.0   \n49       2.0    479.312240   2692466.0                   8.5   \n81       0.1  12245.256450  42981515.0                   1.0   \n\n    thinness_5to9_years  Income_Comp_Of_Resources  Schooling  \n1                  17.5                     0.476       10.0  \n17                  1.3                     0.761       14.2  \n33                  5.8                     0.741       14.4  \n49                  8.3                     0.527       11.4  \n81                  0.9                     0.825       17.3  ",
      "text/html": "<div>\n<style scoped>\n    .dataframe tbody tr th:only-of-type {\n        vertical-align: middle;\n    }\n\n    .dataframe tbody tr th {\n        vertical-align: top;\n    }\n\n    .dataframe thead th {\n        text-align: right;\n    }\n</style>\n<table border=\"1\" class=\"dataframe\">\n  <thead>\n    <tr style=\"text-align: right;\">\n      <th></th>\n      <th>Life_Expectancy</th>\n      <th>Adult_Mortality</th>\n      <th>Infant_Deaths</th>\n      <th>Alcohol</th>\n      <th>Percentage_Exp</th>\n      <th>HepatitisB</th>\n      <th>Measles</th>\n      <th>BMI</th>\n      <th>Under_Five_Deaths</th>\n      <th>Polio</th>\n      <th>Tot_Exp</th>\n      <th>Diphtheria</th>\n      <th>HIV/AIDS</th>\n      <th>GDP</th>\n      <th>Population</th>\n      <th>thinness_1to19_years</th>\n      <th>thinness_5to9_years</th>\n      <th>Income_Comp_Of_Resources</th>\n      <th>Schooling</th>\n    </tr>\n  </thead>\n  <tbody>\n    <tr>\n      <th>1</th>\n      <td>59.9</td>\n      <td>271.0</td>\n      <td>64</td>\n      <td>0.01</td>\n      <td>73.523582</td>\n      <td>62.0</td>\n      <td>492</td>\n      <td>18.6</td>\n      <td>86</td>\n      <td>58.0</td>\n      <td>8.18</td>\n      <td>62.0</td>\n      <td>0.1</td>\n      <td>612.696514</td>\n      <td>327582.0</td>\n      <td>17.5</td>\n      <td>17.5</td>\n      <td>0.476</td>\n      <td>10.0</td>\n    </tr>\n    <tr>\n      <th>17</th>\n      <td>77.5</td>\n      <td>8.0</td>\n      <td>0</td>\n      <td>4.51</td>\n      <td>428.749067</td>\n      <td>98.0</td>\n      <td>0</td>\n      <td>57.2</td>\n      <td>1</td>\n      <td>98.0</td>\n      <td>5.88</td>\n      <td>98.0</td>\n      <td>0.1</td>\n      <td>4575.763787</td>\n      <td>288914.0</td>\n      <td>1.2</td>\n      <td>1.3</td>\n      <td>0.761</td>\n      <td>14.2</td>\n    </tr>\n    <tr>\n      <th>33</th>\n      <td>75.4</td>\n      <td>11.0</td>\n      <td>21</td>\n      <td>0.01</td>\n      <td>54.237318</td>\n      <td>95.0</td>\n      <td>0</td>\n      <td>58.4</td>\n      <td>24</td>\n      <td>95.0</td>\n      <td>7.21</td>\n      <td>95.0</td>\n      <td>0.1</td>\n      <td>547.851700</td>\n      <td>39113313.0</td>\n      <td>6.0</td>\n      <td>5.8</td>\n      <td>0.741</td>\n      <td>14.4</td>\n    </tr>\n    <tr>\n      <th>49</th>\n      <td>51.7</td>\n      <td>348.0</td>\n      <td>67</td>\n      <td>8.33</td>\n      <td>23.965612</td>\n      <td>64.0</td>\n      <td>11699</td>\n      <td>22.7</td>\n      <td>101</td>\n      <td>68.0</td>\n      <td>3.31</td>\n      <td>64.0</td>\n      <td>2.0</td>\n      <td>479.312240</td>\n      <td>2692466.0</td>\n      <td>8.5</td>\n      <td>8.3</td>\n      <td>0.527</td>\n      <td>11.4</td>\n    </tr>\n    <tr>\n      <th>81</th>\n      <td>76.2</td>\n      <td>118.0</td>\n      <td>8</td>\n      <td>7.93</td>\n      <td>847.371746</td>\n      <td>94.0</td>\n      <td>1</td>\n      <td>62.2</td>\n      <td>9</td>\n      <td>92.0</td>\n      <td>4.79</td>\n      <td>94.0</td>\n      <td>0.1</td>\n      <td>12245.256450</td>\n      <td>42981515.0</td>\n      <td>1.0</td>\n      <td>0.9</td>\n      <td>0.825</td>\n      <td>17.3</td>\n    </tr>\n  </tbody>\n</table>\n</div>"
     },
     "execution_count": 315,
     "metadata": {},
     "output_type": "execute_result"
    }
   ],
   "source": [
    "# y removemos las columnas \"Status\", \"Year\" y \"Country\"\n",
    "df = y2014.drop(columns=['Status', 'Year', 'Country'])\n",
    "df.head()"
   ],
   "metadata": {
    "collapsed": false,
    "pycharm": {
     "name": "#%%\n"
    }
   }
  },
  {
   "cell_type": "code",
   "execution_count": 316,
   "outputs": [],
   "source": [
    "# extraemos la variable explicada (Life_Expectancy)\n",
    "ve = df['Life_Expectancy']\n",
    "df = df.drop(columns=['Life_Expectancy'])\n",
    "y = ve.values"
   ],
   "metadata": {
    "collapsed": false,
    "pycharm": {
     "name": "#%%\n"
    }
   }
  },
  {
   "cell_type": "code",
   "execution_count": 317,
   "outputs": [],
   "source": [
    "# la variable X contiene nuestra matriz de datos incluyendo una columna de unos al principio.\n",
    "X = df.values\n",
    "X = np.c_[np.ones(X.shape[0]), X]\n"
   ],
   "metadata": {
    "collapsed": false,
    "pycharm": {
     "name": "#%%\n"
    }
   }
  },
  {
   "cell_type": "markdown",
   "source": [
    "Hasta ahora:\n",
    "\n",
    "**X** es de tamaño 131x19.\n",
    "\n",
    "**y** es de tamaño 131x1.\n",
    "\n",
    "Realizamos los calculos según el método de MCO."
   ],
   "metadata": {
    "collapsed": false,
    "pycharm": {
     "name": "#%% md\n"
    }
   }
  },
  {
   "cell_type": "code",
   "execution_count": 318,
   "outputs": [],
   "source": [
    "X_t = X.transpose()\n",
    "XXt_inv = inv(matmul(X_t, X))\n",
    "Xy = matmul(X_t, y)\n",
    "b = matmul(XXt_inv, Xy)"
   ],
   "metadata": {
    "collapsed": false,
    "pycharm": {
     "name": "#%%\n"
    }
   }
  },
  {
   "cell_type": "markdown",
   "source": [
    "¡Ahora tenemos el estimador b!"
   ],
   "metadata": {
    "collapsed": false
   }
  },
  {
   "cell_type": "code",
   "execution_count": 319,
   "outputs": [
    {
     "name": "stdout",
     "output_type": "stream",
     "text": [
      "Valor esperado: 59.9\n",
      "Valor estimado: [61.59550675]\n"
     ]
    }
   ],
   "source": [
    "def predict(x, b):\n",
    "    x0 = b[0:1]\n",
    "    bb = b[1::]\n",
    "    return np.dot(bb, x)+x0\n",
    "\n",
    "# seleccionamos un país para ver cual es la prediccion segun nuestro modelo\n",
    "rx = df.iloc[0]\n",
    "print(\"Valor esperado: 59.9\\nValor estimado: {}\".format(predict(rx, b)))"
   ],
   "metadata": {
    "collapsed": false,
    "pycharm": {
     "name": "#%%\n"
    }
   }
  },
  {
   "cell_type": "markdown",
   "source": [
    "Parece que funciona...\n",
    "\n",
    "Ahora podemos verificar las medidas de bondad de ajuste del modelo."
   ],
   "metadata": {
    "collapsed": false
   }
  },
  {
   "cell_type": "code",
   "execution_count": 320,
   "outputs": [],
   "source": [
    "y_hat = []\n",
    "for x in df.values:\n",
    "    y_hat.append(float(predict(x,b)))\n",
    "y_hat = np.array(y_hat)\n",
    "u = y - y_hat"
   ],
   "metadata": {
    "collapsed": false,
    "pycharm": {
     "name": "#%%\n"
    }
   }
  },
  {
   "cell_type": "markdown",
   "source": [
    "Ya calculamos todos los \"y i's\" con nuestro modelo y ahora verificamos\n",
    "la variabilidad."
   ],
   "metadata": {
    "collapsed": false,
    "pycharm": {
     "name": "#%% md\n"
    }
   }
  },
  {
   "cell_type": "code",
   "execution_count": 321,
   "outputs": [
    {
     "name": "stdout",
     "output_type": "stream",
     "text": [
      "Variabilidad Total: 9626.488396946563\n",
      "Variabilidad explicada: 8486.507574053016\n",
      "Variabilidad no explicada: 1139.9808228927434\n",
      "VE + VNE = 9626.488396945759\n"
     ]
    }
   ],
   "source": [
    "def VT(y):\n",
    "    return np.sum(np.power(y - np.mean(y), 2))\n",
    "\n",
    "def VE(y, y_h):\n",
    "    return np.sum(np.power(y_h - np.mean(y), 2))\n",
    "\n",
    "def VNE(y, y_h):\n",
    "    return np.sum(np.power(y - y_h, 2))\n",
    "\n",
    "print(\"Variabilidad Total: {}\".format(VT(y)))\n",
    "print(\"Variabilidad explicada: {}\".format(VE(y, y_hat)))\n",
    "print(\"Variabilidad no explicada: {}\".format(VNE(y, y_hat)))\n",
    "print(\"VE + VNE = {}\".format(VE(y, y_hat)+VNE(y, y_hat)))"
   ],
   "metadata": {
    "collapsed": false,
    "pycharm": {
     "name": "#%%\n"
    }
   }
  },
  {
   "cell_type": "markdown",
   "source": [
    "Observamos que efectivamente\n",
    "\n",
    "VT = VNE + VE\n",
    "\n",
    "\n",
    "Y el coeficiente R cuadrada y R cuadrada ajustado son los siguientes:"
   ],
   "metadata": {
    "collapsed": false,
    "pycharm": {
     "name": "#%% md\n"
    }
   }
  },
  {
   "cell_type": "code",
   "execution_count": 322,
   "outputs": [
    {
     "name": "stdout",
     "output_type": "stream",
     "text": [
      "R cuadrada: 0.8815787464871262\n",
      "R cuadrada ajustado: 0.8625467593154144\n"
     ]
    }
   ],
   "source": [
    "m = y.shape[0]\n",
    "n = X.shape[1]\n",
    "\n",
    "var_re = (1/m-n)*np.sum(np.power(u, 2))\n",
    "r_sq = VE(y, y_hat)/VT(y)\n",
    "\n",
    "r_sq_adj = 1 - (m-1)/(m-n) * (1 - r_sq)\n",
    "print(\"R cuadrada: {}\".format(r_sq))\n",
    "print(\"R cuadrada ajustado: {}\".format(r_sq_adj))"
   ],
   "metadata": {
    "collapsed": false,
    "pycharm": {
     "name": "#%%\n"
    }
   }
  },
  {
   "cell_type": "markdown",
   "source": [
    "¡Tenemos un buen modelo!\n"
   ],
   "metadata": {
    "collapsed": false
   }
  }
 ],
 "metadata": {
  "kernelspec": {
   "name": "mvlr",
   "language": "python",
   "display_name": "MultivariateRegression"
  },
  "language_info": {
   "codemirror_mode": {
    "name": "ipython",
    "version": 2
   },
   "file_extension": ".py",
   "mimetype": "text/x-python",
   "name": "python",
   "nbconvert_exporter": "python",
   "pygments_lexer": "ipython2",
   "version": "2.7.6"
  }
 },
 "nbformat": 4,
 "nbformat_minor": 0
}